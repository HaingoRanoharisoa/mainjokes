{
 "cells": [
  {
   "cell_type": "code",
   "execution_count": 1,
   "id": "ca7175c8",
   "metadata": {},
   "outputs": [],
   "source": [
    "\n",
    "import sys\n",
    "sys.path.append('D:/python/lib/site-packages')\n",
    "#import chatterbot\n",
    "import nltk\n",
    "import pymongo\n",
    "from pymongo import MongoClient"
   ]
  },
  {
   "cell_type": "code",
   "execution_count": 1,
   "id": "55b11682",
   "metadata": {},
   "outputs": [
    {
     "data": {
      "text/plain": [
       "20"
      ]
     },
     "execution_count": 1,
     "metadata": {},
     "output_type": "execute_result"
    }
   ],
   "source": [
    "5*4"
   ]
  },
  {
   "cell_type": "code",
   "execution_count": 4,
   "id": "c4c362af",
   "metadata": {},
   "outputs": [],
   "source": [
    "import sys\n",
    "sys.path.append('D:/python/lib/site-packages')\n",
    "\n",
    "import nltk\n",
    "import pymongo\n",
    "from pymongo import MongoClient\n",
    "\n",
    "import urllib\n",
    "import chatterbot\n"
   ]
  },
  {
   "cell_type": "code",
   "execution_count": null,
   "id": "abc92e89",
   "metadata": {},
   "outputs": [],
   "source": [
    "joke_dict ={\"keywird\":\"Blonde\",\n",
    "           \"Question\":\"How do you keep a blonde busy\", \n",
    "           \"Answer\", \"Write FLIP OVER on a piece of papaer and give it to her\"\n",
    "           }\n",
    "# upload joke_dict\n",
    "joke_dict_uploaded"
   ]
  }
 ],
 "metadata": {
  "kernelspec": {
   "display_name": "Python 3 (ipykernel)",
   "language": "python",
   "name": "python3"
  },
  "language_info": {
   "codemirror_mode": {
    "name": "ipython",
    "version": 3
   },
   "file_extension": ".py",
   "mimetype": "text/x-python",
   "name": "python",
   "nbconvert_exporter": "python",
   "pygments_lexer": "ipython3",
   "version": "3.11.5"
  }
 },
 "nbformat": 4,
 "nbformat_minor": 5
}
